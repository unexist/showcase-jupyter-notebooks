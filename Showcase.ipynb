{
 "cells": [
  {
   "cell_type": "markdown",
   "id": "8b8e6d81",
   "metadata": {},
   "source": [
    "# Showcase for Jupyter Notebooks"
   ]
  },
  {
   "cell_type": "markdown",
   "id": "775f4c15",
   "metadata": {},
   "source": [
    "This is an example notebook to demonstrate the features and the handling of Jupyter.\n",
    "\n",
    "## Installation und Prerequisites\n",
    "\n",
    "Besides the base isntallation of [Jupyter](https://jupyter.org/) following packages has to be installed as well: [JupySql](https://jupysql.ploomber.io/en/latest/quick-start.html)"
   ]
  },
  {
   "cell_type": "code",
   "execution_count": 24,
   "id": "3bc9ba19",
   "metadata": {
    "scrolled": true
   },
   "outputs": [
    {
     "name": "stdout",
     "output_type": "stream",
     "text": [
      "Note: you may need to restart the kernel to use updated packages.\n"
     ]
    }
   ],
   "source": [
    "%pip install --quiet --break-system-packages jupysql"
   ]
  },
  {
   "cell_type": "markdown",
   "id": "704b8821",
   "metadata": {},
   "source": [
    "## Connect to database"
   ]
  },
  {
   "cell_type": "code",
   "execution_count": 11,
   "id": "55a61002",
   "metadata": {},
   "outputs": [
    {
     "name": "stdout",
     "output_type": "stream",
     "text": [
      "Please enter your DB password or configure DB_PASS in .env: ········\n"
     ]
    },
    {
     "data": {
      "application/vnd.jupyter.widget-view+json": {
       "model_id": "c951efaf09c2428aade31b30e6cf0ae1",
       "version_major": 2,
       "version_minor": 0
      },
      "text/plain": [
       "interactive(children=(Dropdown(description='Datenbank', options=('database1', 'datbase2'), value='database1'),…"
      ]
     },
     "metadata": {},
     "output_type": "display_data"
    },
    {
     "data": {
      "text/html": [
       "\n",
       "        <script>\n",
       "            function code_toggle_15454803975927261311() {\n",
       "                $('div.cell.code_cell.rendered.selected').find('div.input').toggle();\n",
       "            }\n",
       "\n",
       "            $('div.cell.code_cell.rendered.selected').find('div.input').hide();\n",
       "            \n",
       "        </script>\n",
       "\n",
       "        <a href=\"javascript:code_toggle_15454803975927261311()\">Toggle Code</a>\n",
       "    "
      ],
      "text/plain": [
       "<IPython.core.display.HTML object>"
      ]
     },
     "execution_count": 11,
     "metadata": {},
     "output_type": "execute_result"
    }
   ],
   "source": [
    "%reload_ext autoreload\n",
    "%autoreload 2\n",
    "    \n",
    "import os\n",
    "    \n",
    "from hide_toggle import hide_toggle\n",
    "    \n",
    "from ipywidgets import interact_manual\n",
    "from IPython.display import display\n",
    "from sqlalchemy import create_engine\n",
    "from dotenv import load_dotenv\n",
    "\n",
    "load_dotenv()\n",
    "password = None\n",
    "\n",
    "if None == os.getenv(\"DB_PASS\"):\n",
    "    import getpass\n",
    "    password = getpass.getpass(prompt='Please enter your DB password or configure DB_PASS in .env: ')\n",
    "else:\n",
    "    password = os.getenv(\"DB_PASS\")\n",
    "\n",
    "def connect_to_host(Datenbank=[\"database1\", \"datbase2\"]):\n",
    "    engine = create_engine(os.getenv(\"DATABASE_URL\").format(host=Datenbank, password=password))\n",
    "\n",
    "    %reload_ext sql\n",
    "    %sql engine\n",
    "\n",
    "    display(Datenbank)\n",
    "    \n",
    "connect_manual = interact_manual.options(manual_name=\"Verbinden\")\n",
    "connect_manual(connect_to_host)\n",
    "    \n",
    "hide_toggle()"
   ]
  },
  {
   "cell_type": "markdown",
   "id": "e9f3ae14",
   "metadata": {},
   "source": [
    "## Select username"
   ]
  },
  {
   "cell_type": "markdown",
   "id": "c92afe1c",
   "metadata": {},
   "source": [
    "Please select the username for the stored queries:"
   ]
  },
  {
   "cell_type": "code",
   "execution_count": 6,
   "id": "df542a4b",
   "metadata": {
    "scrolled": true
   },
   "outputs": [
    {
     "data": {
      "application/vnd.jupyter.widget-view+json": {
       "model_id": "f9dd02b76cfd472aab8292c84294a1be",
       "version_major": 2,
       "version_minor": 0
      },
      "text/plain": [
       "Text(value='unexist', description='Username', placeholder='username')"
      ]
     },
     "metadata": {},
     "output_type": "display_data"
    },
    {
     "data": {
      "text/html": [
       "\n",
       "        <script>\n",
       "            function code_toggle_8787739622848547541() {\n",
       "                $('div.cell.code_cell.rendered.selected').find('div.input').toggle();\n",
       "            }\n",
       "\n",
       "            $('div.cell.code_cell.rendered.selected').find('div.input').hide();\n",
       "            \n",
       "        </script>\n",
       "\n",
       "        <a href=\"javascript:code_toggle_8787739622848547541()\">Toggle Code</a>\n",
       "    "
      ],
      "text/plain": [
       "<IPython.core.display.HTML object>"
      ]
     },
     "execution_count": 6,
     "metadata": {},
     "output_type": "execute_result"
    }
   ],
   "source": [
    "%reload_ext autoreload\n",
    "%autoreload 2\n",
    "\n",
    "from hide_toggle import hide_toggle\n",
    "from ipywidgets import widgets\n",
    "\n",
    "USERNAME = \"unexist\"\n",
    "        \n",
    "text_input = widgets.Text(placeholder='username', description='Username', value=USERNAME)\n",
    "\n",
    "def on_text_change(change):\n",
    "    if change['type'] == 'change' and change['name'] == 'value':\n",
    "        USERNAME = change['new']\n",
    "\n",
    "text_input.observe(on_text_change, names='value')\n",
    "\n",
    "display(text_input)\n",
    "\n",
    "hide_toggle()"
   ]
  },
  {
   "cell_type": "markdown",
   "id": "bf2f2d74",
   "metadata": {},
   "source": [
    "## Stored queries"
   ]
  },
  {
   "cell_type": "markdown",
   "id": "5ceede3b",
   "metadata": {},
   "source": [
    "### Find users"
   ]
  },
  {
   "cell_type": "code",
   "execution_count": 10,
   "id": "43bdfa9b",
   "metadata": {},
   "outputs": [
    {
     "data": {
      "text/html": [
       "<span style=\"None\">Running query in &#x27;sqlite:///showcase-database1.db&#x27;</span>"
      ],
      "text/plain": [
       "Running query in 'sqlite:///showcase-database1.db'"
      ]
     },
     "metadata": {},
     "output_type": "display_data"
    },
    {
     "data": {
      "text/html": [
       "<table>\n",
       "    <thead>\n",
       "        <tr>\n",
       "            <th>username</th>\n",
       "            <th>id</th>\n",
       "            <th>email</th>\n",
       "        </tr>\n",
       "    </thead>\n",
       "    <tbody>\n",
       "        <tr>\n",
       "            <td>unexist</td>\n",
       "            <td>1</td>\n",
       "            <td>christoph@unexist.dev</td>\n",
       "        </tr>\n",
       "    </tbody>\n",
       "</table>"
      ],
      "text/plain": [
       "+----------+----+-----------------------+\n",
       "| username | id |         email         |\n",
       "+----------+----+-----------------------+\n",
       "| unexist  | 1  | christoph@unexist.dev |\n",
       "+----------+----+-----------------------+"
      ]
     },
     "execution_count": 10,
     "metadata": {},
     "output_type": "execute_result"
    }
   ],
   "source": [
    "%%sql select '{{USERNAME}}' as username, u.id, u.email from users u\n",
    "    where u.name = '{{USERNAME}}';"
   ]
  }
 ],
 "metadata": {
  "kernelspec": {
   "display_name": "Python 3 (ipykernel)",
   "language": "python",
   "name": "python3"
  },
  "language_info": {
   "codemirror_mode": {
    "name": "ipython",
    "version": 3
   },
   "file_extension": ".py",
   "mimetype": "text/x-python",
   "name": "python",
   "nbconvert_exporter": "python",
   "pygments_lexer": "ipython3",
   "version": "3.13.3"
  }
 },
 "nbformat": 4,
 "nbformat_minor": 5
}
